{
 "cells": [
  {
   "cell_type": "markdown",
   "metadata": {},
   "source": [
    "### Ecuilidean Distance"
   ]
  },
  {
   "cell_type": "code",
   "execution_count": 2,
   "metadata": {
    "ExecuteTime": {
     "end_time": "2021-03-29T06:56:18.417997Z",
     "start_time": "2021-03-29T06:56:18.247405Z"
    }
   },
   "outputs": [
    {
     "data": {
      "text/plain": [
       "0.6164414002968975"
      ]
     },
     "execution_count": 2,
     "metadata": {},
     "output_type": "execute_result"
    }
   ],
   "source": [
    "from scipy.spatial.distance import euclidean, pdist, squareform, jaccard\n",
    "euclidean([1.2,3.4,10.2],[1.4,3.1,10.7])"
   ]
  },
  {
   "cell_type": "markdown",
   "metadata": {},
   "source": [
    "### Ecuilidean Distance matrix"
   ]
  },
  {
   "cell_type": "code",
   "execution_count": 3,
   "metadata": {
    "ExecuteTime": {
     "end_time": "2021-03-29T06:56:22.427979Z",
     "start_time": "2021-03-29T06:56:19.138081Z"
    }
   },
   "outputs": [
    {
     "name": "stdout",
     "output_type": "stream",
     "text": [
      "╒════╤══════════╤══════════╤══════════╤══════════╤══════════╤══════════╕\n",
      "│    │       P1 │       P2 │       P3 │       P4 │       P5 │       P6 │\n",
      "╞════╪══════════╪══════════╪══════════╪══════════╪══════════╪══════════╡\n",
      "│ P1 │ 0        │ 0.234307 │ 0.21587  │ 0.367696 │ 0.34176  │ 0.235372 │\n",
      "├────┼──────────┼──────────┼──────────┼──────────┼──────────┼──────────┤\n",
      "│ P2 │ 0.234307 │ 0        │ 0.143178 │ 0.194165 │ 0.143178 │ 0.243516 │\n",
      "├────┼──────────┼──────────┼──────────┼──────────┼──────────┼──────────┤\n",
      "│ P3 │ 0.21587  │ 0.143178 │ 0        │ 0.158114 │ 0.284605 │ 0.10198  │\n",
      "├────┼──────────┼──────────┼──────────┼──────────┼──────────┼──────────┤\n",
      "│ P4 │ 0.367696 │ 0.194165 │ 0.158114 │ 0        │ 0.284253 │ 0.219545 │\n",
      "├────┼──────────┼──────────┼──────────┼──────────┼──────────┼──────────┤\n",
      "│ P5 │ 0.34176  │ 0.143178 │ 0.284605 │ 0.284253 │ 0        │ 0.386005 │\n",
      "├────┼──────────┼──────────┼──────────┼──────────┼──────────┼──────────┤\n",
      "│ P6 │ 0.235372 │ 0.243516 │ 0.10198  │ 0.219545 │ 0.386005 │ 0        │\n",
      "╘════╧══════════╧══════════╧══════════╧══════════╧══════════╧══════════╛\n"
     ]
    }
   ],
   "source": [
    "x=[0.40,0.22,0.35,0.26,0.08,0.45]\n",
    "y=[0.53,0.38,0.32,0.19,0.41,0.30]\n",
    "\n",
    "from scipy.spatial import distance\n",
    "from tabulate import tabulate\n",
    "import pandas as pd\n",
    "\n",
    "head = ['P'+str(i) for i in range(1,len(x)+1)]\n",
    "coords = list(zip(x,y))\n",
    "# coords = list(zip(x,y,z))\n",
    "\n",
    "df= distance.cdist(coords, coords, 'euclidean')\n",
    "\n",
    "print(tabulate(df,headers=head,showindex=head,tablefmt='fancy_grid'))"
   ]
  },
  {
   "cell_type": "markdown",
   "metadata": {},
   "source": [
    "### Jaccard similarity"
   ]
  },
  {
   "cell_type": "code",
   "execution_count": 4,
   "metadata": {
    "ExecuteTime": {
     "end_time": "2021-03-29T06:56:25.879841Z",
     "start_time": "2021-03-29T06:56:25.872337Z"
    }
   },
   "outputs": [
    {
     "data": {
      "text/plain": [
       "0.3333333333333333"
      ]
     },
     "execution_count": 4,
     "metadata": {},
     "output_type": "execute_result"
    }
   ],
   "source": [
    "from scipy.spatial.distance import euclidean, pdist, squareform, jaccard\n",
    "\n",
    "jaccard([1,0,1,0,0,0],[1,0,1,0,1,0])"
   ]
  },
  {
   "cell_type": "markdown",
   "metadata": {},
   "source": [
    "### Manhattan distance matrix"
   ]
  },
  {
   "cell_type": "code",
   "execution_count": 5,
   "metadata": {
    "ExecuteTime": {
     "end_time": "2021-03-29T06:58:04.615951Z",
     "start_time": "2021-03-29T06:58:04.598680Z"
    }
   },
   "outputs": [
    {
     "name": "stdout",
     "output_type": "stream",
     "text": [
      "╒════╤══════╤══════╤══════╤══════╤══════╤══════╕\n",
      "│    │   P1 │   P2 │   P3 │   P4 │   P5 │   P6 │\n",
      "╞════╪══════╪══════╪══════╪══════╪══════╪══════╡\n",
      "│ P1 │ 0    │ 0.33 │ 0.26 │ 0.48 │ 0.44 │ 0.28 │\n",
      "├────┼──────┼──────┼──────┼──────┼──────┼──────┤\n",
      "│ P2 │ 0.33 │ 0    │ 0.19 │ 0.23 │ 0.17 │ 0.31 │\n",
      "├────┼──────┼──────┼──────┼──────┼──────┼──────┤\n",
      "│ P3 │ 0.26 │ 0.19 │ 0    │ 0.22 │ 0.36 │ 0.12 │\n",
      "├────┼──────┼──────┼──────┼──────┼──────┼──────┤\n",
      "│ P4 │ 0.48 │ 0.23 │ 0.22 │ 0    │ 0.4  │ 0.3  │\n",
      "├────┼──────┼──────┼──────┼──────┼──────┼──────┤\n",
      "│ P5 │ 0.44 │ 0.17 │ 0.36 │ 0.4  │ 0    │ 0.48 │\n",
      "├────┼──────┼──────┼──────┼──────┼──────┼──────┤\n",
      "│ P6 │ 0.28 │ 0.31 │ 0.12 │ 0.3  │ 0.48 │ 0    │\n",
      "╘════╧══════╧══════╧══════╧══════╧══════╧══════╛\n"
     ]
    }
   ],
   "source": [
    "x=[0.40,0.22,0.35,0.26,0.08,0.45]\n",
    "y=[0.53,0.38,0.32,0.19,0.41,0.30]\n",
    "\n",
    "from scipy.spatial import distance\n",
    "from tabulate import tabulate\n",
    "import pandas as pd\n",
    "\n",
    "head = ['P'+str(i) for i in range(1,len(x)+1)]\n",
    "coords = list(zip(x,y))\n",
    "# coords = list(zip(x,y,z))\n",
    "\n",
    "df= distance.cdist(coords, coords,  'minkowski', p=1)\n",
    "\n",
    "print(tabulate(df,headers=head,showindex=head,tablefmt='fancy_grid'))"
   ]
  },
  {
   "cell_type": "markdown",
   "metadata": {},
   "source": [
    "### Cosine Similarity combination"
   ]
  },
  {
   "cell_type": "code",
   "execution_count": 6,
   "metadata": {
    "ExecuteTime": {
     "end_time": "2021-03-29T07:00:23.073078Z",
     "start_time": "2021-03-29T07:00:23.056134Z"
    }
   },
   "outputs": [
    {
     "name": "stdout",
     "output_type": "stream",
     "text": [
      "Cosine similarity of ('A1', 'A2') is 0.9374656480741419\n",
      "Cosine similarity of ('A1', 'A3') is 0.9195070905316879\n",
      "Cosine similarity of ('A1', 'A4') is 0.29622836725320245\n",
      "Cosine similarity of ('A1', 'A5') is 0.8275121276271793\n",
      "Cosine similarity of ('A2', 'A3') is 0.21692002430858193\n",
      "Cosine similarity of ('A2', 'A4') is 0.8520778261702082\n",
      "Cosine similarity of ('A2', 'A5') is 0.8964161511918698\n",
      "Cosine similarity of ('A3', 'A4') is 0.9047988363215618\n",
      "Cosine similarity of ('A3', 'A5') is 0.47734262493740987\n",
      "Cosine similarity of ('A4', 'A5') is 1.0\n"
     ]
    }
   ],
   "source": [
    "A1 = [14,1,0,6,3]\n",
    "A2 = [0,21,5,0,0]\n",
    "A3 = [0,15,18,0,5]\n",
    "A4 = [5,2,0,12,0]\n",
    "A5 = [0,0,5,0,10]\n",
    "\n",
    "values = ['A1', 'A2', 'A3', 'A4', 'A5']\n",
    "\n",
    "from itertools import combinations\n",
    "comb = combinations(values, 2)\n",
    "for i in list(comb):\n",
    "    var1 = eval(i[0])\n",
    "    var2 = eval(i[1])\n",
    "    print(f'Cosine similarity of {i[0], i[1]} is {distance.cosine(var1, var2)}')"
   ]
  }
 ],
 "metadata": {
  "kernelspec": {
   "display_name": "Python 3",
   "language": "python",
   "name": "python3"
  },
  "language_info": {
   "codemirror_mode": {
    "name": "ipython",
    "version": 3
   },
   "file_extension": ".py",
   "mimetype": "text/x-python",
   "name": "python",
   "nbconvert_exporter": "python",
   "pygments_lexer": "ipython3",
   "version": "3.7.4"
  },
  "varInspector": {
   "cols": {
    "lenName": 16,
    "lenType": 16,
    "lenVar": 40
   },
   "kernels_config": {
    "python": {
     "delete_cmd_postfix": "",
     "delete_cmd_prefix": "del ",
     "library": "var_list.py",
     "varRefreshCmd": "print(var_dic_list())"
    },
    "r": {
     "delete_cmd_postfix": ") ",
     "delete_cmd_prefix": "rm(",
     "library": "var_list.r",
     "varRefreshCmd": "cat(var_dic_list()) "
    }
   },
   "types_to_exclude": [
    "module",
    "function",
    "builtin_function_or_method",
    "instance",
    "_Feature"
   ],
   "window_display": false
  }
 },
 "nbformat": 4,
 "nbformat_minor": 2
}
